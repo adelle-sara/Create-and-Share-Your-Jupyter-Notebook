{
 "cells": [
  {
   "cell_type": "markdown",
   "id": "edb9089d-97fc-4859-a9e5-8f6caf532290",
   "metadata": {},
   "source": [
    "# Data Science Tools and Ecosystem"
   ]
  },
  {
   "cell_type": "markdown",
   "id": "022e299b-20b2-4621-b5ca-1b175c204931",
   "metadata": {},
   "source": [
    "In this notebook, Data Science Tools and Ecosystem are summarized."
   ]
  },
  {
   "cell_type": "markdown",
   "id": "6573a1e7-04e2-41b0-b9ac-6343ee31699e",
   "metadata": {},
   "source": [
    "**Objectives:**\n",
    "* List popular languages for data secience\n",
    "* List commonly used libraries for data science\n",
    "* List data science tools\n",
    "* Performing arithmetic expressions"
   ]
  },
  {
   "cell_type": "markdown",
   "id": "4ad18286-f778-4ccd-bf80-1b4bc355647d",
   "metadata": {},
   "source": [
    "Some of the popular languages that Data Scientists use are:\n",
    "1. Python\n",
    "2. R\n",
    "3. SQL"
   ]
  },
  {
   "cell_type": "markdown",
   "id": "06ae0168-e270-4005-8c97-acccf60da442",
   "metadata": {},
   "source": [
    "Some of the commonly used libraries used by Data Scientists include:\n",
    "* Pandas\n",
    "* NumPy\n",
    "* Matplotlib\n",
    "* Seaborn\n",
    "* Scikit-learn\n"
   ]
  },
  {
   "cell_type": "markdown",
   "id": "f81a8be4-47d7-497a-b273-ded23649da86",
   "metadata": {},
   "source": [
    "| Data Science Tools | \n",
    "|--------------------|\n",
    "| R Studio | \n",
    "| Jupyter Notebooks | \n",
    "| MySQL | "
   ]
  },
  {
   "cell_type": "markdown",
   "id": "daf71194-415f-4c25-9da9-b4586bfb068d",
   "metadata": {},
   "source": [
    "### Below are a few examples of evaluating arithmetic expressions in Python"
   ]
  },
  {
   "cell_type": "code",
   "execution_count": 2,
   "id": "8ce9887c-3e33-4c3d-9cf4-874ca952f17f",
   "metadata": {},
   "outputs": [
    {
     "data": {
      "text/plain": [
       "17"
      ]
     },
     "execution_count": 2,
     "metadata": {},
     "output_type": "execute_result"
    }
   ],
   "source": [
    "# This a simple arithmetic expression to mutiply then add integers\n",
    "(3*4)+5"
   ]
  },
  {
   "cell_type": "code",
   "execution_count": 3,
   "id": "4fb8cdba-3bad-4b47-92aa-b4e590308f76",
   "metadata": {},
   "outputs": [
    {
     "data": {
      "text/plain": [
       "33.333333333333336"
      ]
     },
     "execution_count": 3,
     "metadata": {},
     "output_type": "execute_result"
    }
   ],
   "source": [
    "# This will convert 200 minutes to hours by diving by 60\n",
    "200/6"
   ]
  },
  {
   "cell_type": "markdown",
   "id": "860d947f-c332-43e1-a7f8-0a437f30b437",
   "metadata": {},
   "source": [
    "## Author\n",
    "Adelle Wigley"
   ]
  }
 ],
 "metadata": {
  "kernelspec": {
   "display_name": "Python 3 (ipykernel)",
   "language": "python",
   "name": "python3"
  },
  "language_info": {
   "codemirror_mode": {
    "name": "ipython",
    "version": 3
   },
   "file_extension": ".py",
   "mimetype": "text/x-python",
   "name": "python",
   "nbconvert_exporter": "python",
   "pygments_lexer": "ipython3",
   "version": "3.9.6"
  }
 },
 "nbformat": 4,
 "nbformat_minor": 5
}
